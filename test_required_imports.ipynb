{
 "cells": [
  {
   "cell_type": "code",
   "execution_count": null,
   "id": "5ec820cf",
   "metadata": {},
   "outputs": [],
   "source": []
  },
  {
   "cell_type": "code",
   "execution_count": 1,
   "id": "2dba538a",
   "metadata": {},
   "outputs": [],
   "source": [
    "def z_scores(df, col_name, sigma):\n",
    "    \"\"\"\n",
    "    DESCRIPTION:\n",
    "    This function calculates z_score and appends it to a zscores_df, \n",
    "    then displays only results matching the given sigma argument.\n",
    "    ___________________________________\n",
    "    IMPORTS REQUIRED:\n",
    "    import pandas as pd\n",
    "    from datetime import timedelta, datetime\n",
    "    ___________________________________\n",
    "    ARGUMENTS:\n",
    "                 df = DataFrame\n",
    "    datetime_column = The 'column_name' of the column being used to store Date and Time data as datetime data type.\n",
    "    \"\"\"\n",
    "    zscores_df = df\n",
    "    z_scores = (df[col_name] - df[col_name].mean()) / df[col_name].std()\n",
    "    zscores_df[col_name+'_zscores'] = z_scores\n",
    "    return zscores_df[zscores_df[col_name+'_zscores'].abs() >= sigma]"
   ]
  },
  {
   "cell_type": "code",
   "execution_count": null,
   "id": "49e9b065",
   "metadata": {},
   "outputs": [],
   "source": []
  }
 ],
 "metadata": {
  "kernelspec": {
   "display_name": "Python 3 (ipykernel)",
   "language": "python",
   "name": "python3"
  },
  "language_info": {
   "codemirror_mode": {
    "name": "ipython",
    "version": 3
   },
   "file_extension": ".py",
   "mimetype": "text/x-python",
   "name": "python",
   "nbconvert_exporter": "python",
   "pygments_lexer": "ipython3",
   "version": "3.9.12"
  }
 },
 "nbformat": 4,
 "nbformat_minor": 5
}
